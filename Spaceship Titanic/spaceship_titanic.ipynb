{
 "cells": [
  {
   "cell_type": "code",
   "execution_count": 64,
   "outputs": [],
   "source": [
    "import pandas as pd\n",
    "\n",
    "df = pd.read_csv('train.csv')"
   ],
   "metadata": {
    "collapsed": false,
    "pycharm": {
     "name": "#%%\n"
    }
   }
  },
  {
   "cell_type": "code",
   "execution_count": 65,
   "outputs": [
    {
     "data": {
      "text/plain": "               Age   RoomService     FoodCourt  ShoppingMall           Spa  \\\ncount  8514.000000   8512.000000   8510.000000   8485.000000   8510.000000   \nmean     28.827930    224.687617    458.077203    173.729169    311.138778   \nstd      14.489021    666.717663   1611.489240    604.696458   1136.705535   \nmin       0.000000      0.000000      0.000000      0.000000      0.000000   \n25%      19.000000      0.000000      0.000000      0.000000      0.000000   \n50%      27.000000      0.000000      0.000000      0.000000      0.000000   \n75%      38.000000     47.000000     76.000000     27.000000     59.000000   \nmax      79.000000  14327.000000  29813.000000  23492.000000  22408.000000   \n\n             VRDeck  \ncount   8505.000000  \nmean     304.854791  \nstd     1145.717189  \nmin        0.000000  \n25%        0.000000  \n50%        0.000000  \n75%       46.000000  \nmax    24133.000000  ",
      "text/html": "<div>\n<style scoped>\n    .dataframe tbody tr th:only-of-type {\n        vertical-align: middle;\n    }\n\n    .dataframe tbody tr th {\n        vertical-align: top;\n    }\n\n    .dataframe thead th {\n        text-align: right;\n    }\n</style>\n<table border=\"1\" class=\"dataframe\">\n  <thead>\n    <tr style=\"text-align: right;\">\n      <th></th>\n      <th>Age</th>\n      <th>RoomService</th>\n      <th>FoodCourt</th>\n      <th>ShoppingMall</th>\n      <th>Spa</th>\n      <th>VRDeck</th>\n    </tr>\n  </thead>\n  <tbody>\n    <tr>\n      <th>count</th>\n      <td>8514.000000</td>\n      <td>8512.000000</td>\n      <td>8510.000000</td>\n      <td>8485.000000</td>\n      <td>8510.000000</td>\n      <td>8505.000000</td>\n    </tr>\n    <tr>\n      <th>mean</th>\n      <td>28.827930</td>\n      <td>224.687617</td>\n      <td>458.077203</td>\n      <td>173.729169</td>\n      <td>311.138778</td>\n      <td>304.854791</td>\n    </tr>\n    <tr>\n      <th>std</th>\n      <td>14.489021</td>\n      <td>666.717663</td>\n      <td>1611.489240</td>\n      <td>604.696458</td>\n      <td>1136.705535</td>\n      <td>1145.717189</td>\n    </tr>\n    <tr>\n      <th>min</th>\n      <td>0.000000</td>\n      <td>0.000000</td>\n      <td>0.000000</td>\n      <td>0.000000</td>\n      <td>0.000000</td>\n      <td>0.000000</td>\n    </tr>\n    <tr>\n      <th>25%</th>\n      <td>19.000000</td>\n      <td>0.000000</td>\n      <td>0.000000</td>\n      <td>0.000000</td>\n      <td>0.000000</td>\n      <td>0.000000</td>\n    </tr>\n    <tr>\n      <th>50%</th>\n      <td>27.000000</td>\n      <td>0.000000</td>\n      <td>0.000000</td>\n      <td>0.000000</td>\n      <td>0.000000</td>\n      <td>0.000000</td>\n    </tr>\n    <tr>\n      <th>75%</th>\n      <td>38.000000</td>\n      <td>47.000000</td>\n      <td>76.000000</td>\n      <td>27.000000</td>\n      <td>59.000000</td>\n      <td>46.000000</td>\n    </tr>\n    <tr>\n      <th>max</th>\n      <td>79.000000</td>\n      <td>14327.000000</td>\n      <td>29813.000000</td>\n      <td>23492.000000</td>\n      <td>22408.000000</td>\n      <td>24133.000000</td>\n    </tr>\n  </tbody>\n</table>\n</div>"
     },
     "execution_count": 65,
     "metadata": {},
     "output_type": "execute_result"
    }
   ],
   "source": [
    "df.describe()"
   ],
   "metadata": {
    "collapsed": false,
    "pycharm": {
     "name": "#%%\n"
    }
   }
  },
  {
   "cell_type": "code",
   "execution_count": 66,
   "outputs": [
    {
     "data": {
      "text/plain": "     PassengerId HomePlanet CryoSleep     Cabin    Destination   Age    VIP  \\\n0        0001_01     Europa     False     B/0/P    TRAPPIST-1e  39.0  False   \n1        0002_01      Earth     False     F/0/S    TRAPPIST-1e  24.0  False   \n2        0003_01     Europa     False     A/0/S    TRAPPIST-1e  58.0   True   \n3        0003_02     Europa     False     A/0/S    TRAPPIST-1e  33.0  False   \n4        0004_01      Earth     False     F/1/S    TRAPPIST-1e  16.0  False   \n...          ...        ...       ...       ...            ...   ...    ...   \n8688     9276_01     Europa     False    A/98/P    55 Cancri e  41.0   True   \n8689     9278_01      Earth      True  G/1499/S  PSO J318.5-22  18.0  False   \n8690     9279_01      Earth     False  G/1500/S    TRAPPIST-1e  26.0  False   \n8691     9280_01     Europa     False   E/608/S    55 Cancri e  32.0  False   \n8692     9280_02     Europa     False   E/608/S    TRAPPIST-1e  44.0  False   \n\n      RoomService  FoodCourt  ShoppingMall     Spa  VRDeck               Name  \\\n0             0.0        0.0           0.0     0.0     0.0    Maham Ofracculy   \n1           109.0        9.0          25.0   549.0    44.0       Juanna Vines   \n2            43.0     3576.0           0.0  6715.0    49.0      Altark Susent   \n3             0.0     1283.0         371.0  3329.0   193.0       Solam Susent   \n4           303.0       70.0         151.0   565.0     2.0  Willy Santantines   \n...           ...        ...           ...     ...     ...                ...   \n8688          0.0     6819.0           0.0  1643.0    74.0  Gravior Noxnuther   \n8689          0.0        0.0           0.0     0.0     0.0    Kurta Mondalley   \n8690          0.0        0.0        1872.0     1.0     0.0       Fayey Connon   \n8691          0.0     1049.0           0.0   353.0  3235.0   Celeon Hontichre   \n8692        126.0     4688.0           0.0     0.0    12.0   Propsh Hontichre   \n\n      Transported  \n0           False  \n1            True  \n2           False  \n3           False  \n4            True  \n...           ...  \n8688        False  \n8689        False  \n8690         True  \n8691        False  \n8692         True  \n\n[8693 rows x 14 columns]",
      "text/html": "<div>\n<style scoped>\n    .dataframe tbody tr th:only-of-type {\n        vertical-align: middle;\n    }\n\n    .dataframe tbody tr th {\n        vertical-align: top;\n    }\n\n    .dataframe thead th {\n        text-align: right;\n    }\n</style>\n<table border=\"1\" class=\"dataframe\">\n  <thead>\n    <tr style=\"text-align: right;\">\n      <th></th>\n      <th>PassengerId</th>\n      <th>HomePlanet</th>\n      <th>CryoSleep</th>\n      <th>Cabin</th>\n      <th>Destination</th>\n      <th>Age</th>\n      <th>VIP</th>\n      <th>RoomService</th>\n      <th>FoodCourt</th>\n      <th>ShoppingMall</th>\n      <th>Spa</th>\n      <th>VRDeck</th>\n      <th>Name</th>\n      <th>Transported</th>\n    </tr>\n  </thead>\n  <tbody>\n    <tr>\n      <th>0</th>\n      <td>0001_01</td>\n      <td>Europa</td>\n      <td>False</td>\n      <td>B/0/P</td>\n      <td>TRAPPIST-1e</td>\n      <td>39.0</td>\n      <td>False</td>\n      <td>0.0</td>\n      <td>0.0</td>\n      <td>0.0</td>\n      <td>0.0</td>\n      <td>0.0</td>\n      <td>Maham Ofracculy</td>\n      <td>False</td>\n    </tr>\n    <tr>\n      <th>1</th>\n      <td>0002_01</td>\n      <td>Earth</td>\n      <td>False</td>\n      <td>F/0/S</td>\n      <td>TRAPPIST-1e</td>\n      <td>24.0</td>\n      <td>False</td>\n      <td>109.0</td>\n      <td>9.0</td>\n      <td>25.0</td>\n      <td>549.0</td>\n      <td>44.0</td>\n      <td>Juanna Vines</td>\n      <td>True</td>\n    </tr>\n    <tr>\n      <th>2</th>\n      <td>0003_01</td>\n      <td>Europa</td>\n      <td>False</td>\n      <td>A/0/S</td>\n      <td>TRAPPIST-1e</td>\n      <td>58.0</td>\n      <td>True</td>\n      <td>43.0</td>\n      <td>3576.0</td>\n      <td>0.0</td>\n      <td>6715.0</td>\n      <td>49.0</td>\n      <td>Altark Susent</td>\n      <td>False</td>\n    </tr>\n    <tr>\n      <th>3</th>\n      <td>0003_02</td>\n      <td>Europa</td>\n      <td>False</td>\n      <td>A/0/S</td>\n      <td>TRAPPIST-1e</td>\n      <td>33.0</td>\n      <td>False</td>\n      <td>0.0</td>\n      <td>1283.0</td>\n      <td>371.0</td>\n      <td>3329.0</td>\n      <td>193.0</td>\n      <td>Solam Susent</td>\n      <td>False</td>\n    </tr>\n    <tr>\n      <th>4</th>\n      <td>0004_01</td>\n      <td>Earth</td>\n      <td>False</td>\n      <td>F/1/S</td>\n      <td>TRAPPIST-1e</td>\n      <td>16.0</td>\n      <td>False</td>\n      <td>303.0</td>\n      <td>70.0</td>\n      <td>151.0</td>\n      <td>565.0</td>\n      <td>2.0</td>\n      <td>Willy Santantines</td>\n      <td>True</td>\n    </tr>\n    <tr>\n      <th>...</th>\n      <td>...</td>\n      <td>...</td>\n      <td>...</td>\n      <td>...</td>\n      <td>...</td>\n      <td>...</td>\n      <td>...</td>\n      <td>...</td>\n      <td>...</td>\n      <td>...</td>\n      <td>...</td>\n      <td>...</td>\n      <td>...</td>\n      <td>...</td>\n    </tr>\n    <tr>\n      <th>8688</th>\n      <td>9276_01</td>\n      <td>Europa</td>\n      <td>False</td>\n      <td>A/98/P</td>\n      <td>55 Cancri e</td>\n      <td>41.0</td>\n      <td>True</td>\n      <td>0.0</td>\n      <td>6819.0</td>\n      <td>0.0</td>\n      <td>1643.0</td>\n      <td>74.0</td>\n      <td>Gravior Noxnuther</td>\n      <td>False</td>\n    </tr>\n    <tr>\n      <th>8689</th>\n      <td>9278_01</td>\n      <td>Earth</td>\n      <td>True</td>\n      <td>G/1499/S</td>\n      <td>PSO J318.5-22</td>\n      <td>18.0</td>\n      <td>False</td>\n      <td>0.0</td>\n      <td>0.0</td>\n      <td>0.0</td>\n      <td>0.0</td>\n      <td>0.0</td>\n      <td>Kurta Mondalley</td>\n      <td>False</td>\n    </tr>\n    <tr>\n      <th>8690</th>\n      <td>9279_01</td>\n      <td>Earth</td>\n      <td>False</td>\n      <td>G/1500/S</td>\n      <td>TRAPPIST-1e</td>\n      <td>26.0</td>\n      <td>False</td>\n      <td>0.0</td>\n      <td>0.0</td>\n      <td>1872.0</td>\n      <td>1.0</td>\n      <td>0.0</td>\n      <td>Fayey Connon</td>\n      <td>True</td>\n    </tr>\n    <tr>\n      <th>8691</th>\n      <td>9280_01</td>\n      <td>Europa</td>\n      <td>False</td>\n      <td>E/608/S</td>\n      <td>55 Cancri e</td>\n      <td>32.0</td>\n      <td>False</td>\n      <td>0.0</td>\n      <td>1049.0</td>\n      <td>0.0</td>\n      <td>353.0</td>\n      <td>3235.0</td>\n      <td>Celeon Hontichre</td>\n      <td>False</td>\n    </tr>\n    <tr>\n      <th>8692</th>\n      <td>9280_02</td>\n      <td>Europa</td>\n      <td>False</td>\n      <td>E/608/S</td>\n      <td>TRAPPIST-1e</td>\n      <td>44.0</td>\n      <td>False</td>\n      <td>126.0</td>\n      <td>4688.0</td>\n      <td>0.0</td>\n      <td>0.0</td>\n      <td>12.0</td>\n      <td>Propsh Hontichre</td>\n      <td>True</td>\n    </tr>\n  </tbody>\n</table>\n<p>8693 rows × 14 columns</p>\n</div>"
     },
     "execution_count": 66,
     "metadata": {},
     "output_type": "execute_result"
    }
   ],
   "source": [
    "df"
   ],
   "metadata": {
    "collapsed": false,
    "pycharm": {
     "name": "#%%\n"
    }
   }
  },
  {
   "cell_type": "code",
   "execution_count": 67,
   "outputs": [
    {
     "name": "stdout",
     "output_type": "stream",
     "text": [
      "<class 'pandas.core.frame.DataFrame'>\n",
      "RangeIndex: 8693 entries, 0 to 8692\n",
      "Data columns (total 14 columns):\n",
      " #   Column        Non-Null Count  Dtype  \n",
      "---  ------        --------------  -----  \n",
      " 0   PassengerId   8693 non-null   object \n",
      " 1   HomePlanet    8492 non-null   object \n",
      " 2   CryoSleep     8476 non-null   object \n",
      " 3   Cabin         8494 non-null   object \n",
      " 4   Destination   8511 non-null   object \n",
      " 5   Age           8514 non-null   float64\n",
      " 6   VIP           8490 non-null   object \n",
      " 7   RoomService   8512 non-null   float64\n",
      " 8   FoodCourt     8510 non-null   float64\n",
      " 9   ShoppingMall  8485 non-null   float64\n",
      " 10  Spa           8510 non-null   float64\n",
      " 11  VRDeck        8505 non-null   float64\n",
      " 12  Name          8493 non-null   object \n",
      " 13  Transported   8693 non-null   bool   \n",
      "dtypes: bool(1), float64(6), object(7)\n",
      "memory usage: 891.5+ KB\n"
     ]
    }
   ],
   "source": [
    "df.info()"
   ],
   "metadata": {
    "collapsed": false,
    "pycharm": {
     "name": "#%%\n"
    }
   }
  },
  {
   "cell_type": "markdown",
   "source": [
    "# data preprocessing"
   ],
   "metadata": {
    "collapsed": false,
    "pycharm": {
     "name": "#%% md\n"
    }
   }
  },
  {
   "cell_type": "code",
   "execution_count": 68,
   "outputs": [],
   "source": [
    "df_transformed = df"
   ],
   "metadata": {
    "collapsed": false,
    "pycharm": {
     "name": "#%%\n"
    }
   }
  },
  {
   "cell_type": "markdown",
   "source": [
    "## impute numeric data"
   ],
   "metadata": {
    "collapsed": false,
    "pycharm": {
     "name": "#%% md\n"
    }
   }
  },
  {
   "cell_type": "code",
   "execution_count": 69,
   "outputs": [],
   "source": [
    "numeric_list = ['Age', 'RoomService', 'FoodCourt', 'ShoppingMall', 'Spa', 'VRDeck']"
   ],
   "metadata": {
    "collapsed": false,
    "pycharm": {
     "name": "#%%\n"
    }
   }
  },
  {
   "cell_type": "code",
   "execution_count": 70,
   "outputs": [],
   "source": [
    "from sklearn.impute import SimpleImputer\n",
    "import numpy as np\n",
    "\n",
    "ipt = SimpleImputer(missing_values=np.nan, strategy='median')\n",
    "df_transformed[numeric_list] = ipt.fit_transform(df[numeric_list])"
   ],
   "metadata": {
    "collapsed": false,
    "pycharm": {
     "name": "#%%\n"
    }
   }
  },
  {
   "cell_type": "markdown",
   "source": [
    "## drop na"
   ],
   "metadata": {
    "collapsed": false,
    "pycharm": {
     "name": "#%% md\n"
    }
   }
  },
  {
   "cell_type": "code",
   "execution_count": 71,
   "outputs": [],
   "source": [
    "df_transformed.dropna(inplace=True)"
   ],
   "metadata": {
    "collapsed": false,
    "pycharm": {
     "name": "#%%\n"
    }
   }
  },
  {
   "cell_type": "markdown",
   "source": [
    "## data augmentation"
   ],
   "metadata": {
    "collapsed": false,
    "pycharm": {
     "name": "#%% md\n"
    }
   }
  },
  {
   "cell_type": "code",
   "execution_count": 72,
   "outputs": [],
   "source": [
    "# add group number\n",
    "df_transformed[['group', 'id']] = df['PassengerId'].str.split('_', expand = True)\n",
    "df_transformed.drop(columns=['id', 'PassengerId'], inplace=True)\n",
    "df_transformed['group'] = df_transformed['group'].apply(int)"
   ],
   "metadata": {
    "collapsed": false,
    "pycharm": {
     "name": "#%%\n"
    }
   }
  },
  {
   "cell_type": "code",
   "execution_count": 73,
   "outputs": [],
   "source": [
    "# split cabin number\n",
    "df_transformed[['deck', 'cabin number', 'side']] = df_transformed['Cabin'].str.split('/', expand=True)\n",
    "df_transformed['cabin number'] = df_transformed['cabin number'].apply(int)\n",
    "df_transformed.drop(columns='Cabin', inplace=True)"
   ],
   "metadata": {
    "collapsed": false,
    "pycharm": {
     "name": "#%%\n"
    }
   }
  },
  {
   "cell_type": "code",
   "execution_count": 74,
   "outputs": [],
   "source": [
    "# add total expenses column\n",
    "df_transformed['total expenses'] = df_transformed['RoomService']+ df_transformed['FoodCourt']+ df_transformed['ShoppingMall']+ df_transformed['Spa']+ df_transformed['VRDeck']"
   ],
   "metadata": {
    "collapsed": false,
    "pycharm": {
     "name": "#%%\n"
    }
   }
  },
  {
   "cell_type": "code",
   "execution_count": 75,
   "outputs": [],
   "source": [
    "# add number of family members column\n",
    "df_transformed[['first name', 'last name']] = df_transformed['Name'].str.split(' ', expand=True)\n",
    "df_family = pd.DataFrame(df_transformed.groupby(['group','last name']).size())\n",
    "df_family.rename(columns={0: 'members'}, inplace=True)\n",
    "\n",
    "df_transformed = df_transformed.merge(right=df_family, how='left', on=['group', 'last name'])\n",
    "df_transformed.drop(columns=['first name', 'last name', 'Name'], inplace=True)"
   ],
   "metadata": {
    "collapsed": false,
    "pycharm": {
     "name": "#%%\n"
    }
   }
  },
  {
   "cell_type": "markdown",
   "source": [
    "# encoding and standardisation"
   ],
   "metadata": {
    "collapsed": false,
    "pycharm": {
     "name": "#%% md\n"
    }
   }
  },
  {
   "cell_type": "code",
   "execution_count": 76,
   "outputs": [],
   "source": [
    "# mapping boolean values\n",
    "boolean_list_transformed = ['CryoSleep', 'VIP']\n",
    "bool_dict_transformed = {'True': 1, 'False': 0}\n",
    "\n",
    "df_transformed[boolean_list_transformed] = df_transformed[boolean_list_transformed].astype(int)"
   ],
   "metadata": {
    "collapsed": false,
    "pycharm": {
     "name": "#%%\n"
    }
   }
  },
  {
   "cell_type": "code",
   "execution_count": 77,
   "outputs": [
    {
     "data": {
      "text/plain": "      CryoSleep   Age  VIP  RoomService  FoodCourt  ShoppingMall     Spa  \\\n0             0  39.0    0          0.0        0.0           0.0     0.0   \n1             0  24.0    0        109.0        9.0          25.0   549.0   \n2             0  58.0    1         43.0     3576.0           0.0  6715.0   \n3             0  33.0    0          0.0     1283.0         371.0  3329.0   \n4             0  16.0    0        303.0       70.0         151.0   565.0   \n...         ...   ...  ...          ...        ...           ...     ...   \n7554          0  41.0    1          0.0     6819.0           0.0  1643.0   \n7555          1  18.0    0          0.0        0.0           0.0     0.0   \n7556          0  26.0    0          0.0        0.0        1872.0     1.0   \n7557          0  32.0    0          0.0     1049.0           0.0   353.0   \n7558          0  44.0    0        126.0     4688.0           0.0     0.0   \n\n      VRDeck  Transported  group  ...  deck_A  deck_B  deck_C  deck_D  deck_E  \\\n0        0.0        False      1  ...       0       1       0       0       0   \n1       44.0         True      2  ...       0       0       0       0       0   \n2       49.0        False      3  ...       1       0       0       0       0   \n3      193.0        False      3  ...       1       0       0       0       0   \n4        2.0         True      4  ...       0       0       0       0       0   \n...      ...          ...    ...  ...     ...     ...     ...     ...     ...   \n7554    74.0        False   9276  ...       1       0       0       0       0   \n7555     0.0        False   9278  ...       0       0       0       0       0   \n7556     0.0         True   9279  ...       0       0       0       0       0   \n7557  3235.0        False   9280  ...       0       0       0       0       1   \n7558    12.0         True   9280  ...       0       0       0       0       1   \n\n      deck_F  deck_G  deck_T  side_P  side_S  \n0          0       0       0       1       0  \n1          1       0       0       0       1  \n2          0       0       0       0       1  \n3          0       0       0       0       1  \n4          1       0       0       0       1  \n...      ...     ...     ...     ...     ...  \n7554       0       0       0       1       0  \n7555       0       1       0       0       1  \n7556       0       1       0       0       1  \n7557       0       0       0       0       1  \n7558       0       0       0       0       1  \n\n[7559 rows x 29 columns]",
      "text/html": "<div>\n<style scoped>\n    .dataframe tbody tr th:only-of-type {\n        vertical-align: middle;\n    }\n\n    .dataframe tbody tr th {\n        vertical-align: top;\n    }\n\n    .dataframe thead th {\n        text-align: right;\n    }\n</style>\n<table border=\"1\" class=\"dataframe\">\n  <thead>\n    <tr style=\"text-align: right;\">\n      <th></th>\n      <th>CryoSleep</th>\n      <th>Age</th>\n      <th>VIP</th>\n      <th>RoomService</th>\n      <th>FoodCourt</th>\n      <th>ShoppingMall</th>\n      <th>Spa</th>\n      <th>VRDeck</th>\n      <th>Transported</th>\n      <th>group</th>\n      <th>...</th>\n      <th>deck_A</th>\n      <th>deck_B</th>\n      <th>deck_C</th>\n      <th>deck_D</th>\n      <th>deck_E</th>\n      <th>deck_F</th>\n      <th>deck_G</th>\n      <th>deck_T</th>\n      <th>side_P</th>\n      <th>side_S</th>\n    </tr>\n  </thead>\n  <tbody>\n    <tr>\n      <th>0</th>\n      <td>0</td>\n      <td>39.0</td>\n      <td>0</td>\n      <td>0.0</td>\n      <td>0.0</td>\n      <td>0.0</td>\n      <td>0.0</td>\n      <td>0.0</td>\n      <td>False</td>\n      <td>1</td>\n      <td>...</td>\n      <td>0</td>\n      <td>1</td>\n      <td>0</td>\n      <td>0</td>\n      <td>0</td>\n      <td>0</td>\n      <td>0</td>\n      <td>0</td>\n      <td>1</td>\n      <td>0</td>\n    </tr>\n    <tr>\n      <th>1</th>\n      <td>0</td>\n      <td>24.0</td>\n      <td>0</td>\n      <td>109.0</td>\n      <td>9.0</td>\n      <td>25.0</td>\n      <td>549.0</td>\n      <td>44.0</td>\n      <td>True</td>\n      <td>2</td>\n      <td>...</td>\n      <td>0</td>\n      <td>0</td>\n      <td>0</td>\n      <td>0</td>\n      <td>0</td>\n      <td>1</td>\n      <td>0</td>\n      <td>0</td>\n      <td>0</td>\n      <td>1</td>\n    </tr>\n    <tr>\n      <th>2</th>\n      <td>0</td>\n      <td>58.0</td>\n      <td>1</td>\n      <td>43.0</td>\n      <td>3576.0</td>\n      <td>0.0</td>\n      <td>6715.0</td>\n      <td>49.0</td>\n      <td>False</td>\n      <td>3</td>\n      <td>...</td>\n      <td>1</td>\n      <td>0</td>\n      <td>0</td>\n      <td>0</td>\n      <td>0</td>\n      <td>0</td>\n      <td>0</td>\n      <td>0</td>\n      <td>0</td>\n      <td>1</td>\n    </tr>\n    <tr>\n      <th>3</th>\n      <td>0</td>\n      <td>33.0</td>\n      <td>0</td>\n      <td>0.0</td>\n      <td>1283.0</td>\n      <td>371.0</td>\n      <td>3329.0</td>\n      <td>193.0</td>\n      <td>False</td>\n      <td>3</td>\n      <td>...</td>\n      <td>1</td>\n      <td>0</td>\n      <td>0</td>\n      <td>0</td>\n      <td>0</td>\n      <td>0</td>\n      <td>0</td>\n      <td>0</td>\n      <td>0</td>\n      <td>1</td>\n    </tr>\n    <tr>\n      <th>4</th>\n      <td>0</td>\n      <td>16.0</td>\n      <td>0</td>\n      <td>303.0</td>\n      <td>70.0</td>\n      <td>151.0</td>\n      <td>565.0</td>\n      <td>2.0</td>\n      <td>True</td>\n      <td>4</td>\n      <td>...</td>\n      <td>0</td>\n      <td>0</td>\n      <td>0</td>\n      <td>0</td>\n      <td>0</td>\n      <td>1</td>\n      <td>0</td>\n      <td>0</td>\n      <td>0</td>\n      <td>1</td>\n    </tr>\n    <tr>\n      <th>...</th>\n      <td>...</td>\n      <td>...</td>\n      <td>...</td>\n      <td>...</td>\n      <td>...</td>\n      <td>...</td>\n      <td>...</td>\n      <td>...</td>\n      <td>...</td>\n      <td>...</td>\n      <td>...</td>\n      <td>...</td>\n      <td>...</td>\n      <td>...</td>\n      <td>...</td>\n      <td>...</td>\n      <td>...</td>\n      <td>...</td>\n      <td>...</td>\n      <td>...</td>\n      <td>...</td>\n    </tr>\n    <tr>\n      <th>7554</th>\n      <td>0</td>\n      <td>41.0</td>\n      <td>1</td>\n      <td>0.0</td>\n      <td>6819.0</td>\n      <td>0.0</td>\n      <td>1643.0</td>\n      <td>74.0</td>\n      <td>False</td>\n      <td>9276</td>\n      <td>...</td>\n      <td>1</td>\n      <td>0</td>\n      <td>0</td>\n      <td>0</td>\n      <td>0</td>\n      <td>0</td>\n      <td>0</td>\n      <td>0</td>\n      <td>1</td>\n      <td>0</td>\n    </tr>\n    <tr>\n      <th>7555</th>\n      <td>1</td>\n      <td>18.0</td>\n      <td>0</td>\n      <td>0.0</td>\n      <td>0.0</td>\n      <td>0.0</td>\n      <td>0.0</td>\n      <td>0.0</td>\n      <td>False</td>\n      <td>9278</td>\n      <td>...</td>\n      <td>0</td>\n      <td>0</td>\n      <td>0</td>\n      <td>0</td>\n      <td>0</td>\n      <td>0</td>\n      <td>1</td>\n      <td>0</td>\n      <td>0</td>\n      <td>1</td>\n    </tr>\n    <tr>\n      <th>7556</th>\n      <td>0</td>\n      <td>26.0</td>\n      <td>0</td>\n      <td>0.0</td>\n      <td>0.0</td>\n      <td>1872.0</td>\n      <td>1.0</td>\n      <td>0.0</td>\n      <td>True</td>\n      <td>9279</td>\n      <td>...</td>\n      <td>0</td>\n      <td>0</td>\n      <td>0</td>\n      <td>0</td>\n      <td>0</td>\n      <td>0</td>\n      <td>1</td>\n      <td>0</td>\n      <td>0</td>\n      <td>1</td>\n    </tr>\n    <tr>\n      <th>7557</th>\n      <td>0</td>\n      <td>32.0</td>\n      <td>0</td>\n      <td>0.0</td>\n      <td>1049.0</td>\n      <td>0.0</td>\n      <td>353.0</td>\n      <td>3235.0</td>\n      <td>False</td>\n      <td>9280</td>\n      <td>...</td>\n      <td>0</td>\n      <td>0</td>\n      <td>0</td>\n      <td>0</td>\n      <td>1</td>\n      <td>0</td>\n      <td>0</td>\n      <td>0</td>\n      <td>0</td>\n      <td>1</td>\n    </tr>\n    <tr>\n      <th>7558</th>\n      <td>0</td>\n      <td>44.0</td>\n      <td>0</td>\n      <td>126.0</td>\n      <td>4688.0</td>\n      <td>0.0</td>\n      <td>0.0</td>\n      <td>12.0</td>\n      <td>True</td>\n      <td>9280</td>\n      <td>...</td>\n      <td>0</td>\n      <td>0</td>\n      <td>0</td>\n      <td>0</td>\n      <td>1</td>\n      <td>0</td>\n      <td>0</td>\n      <td>0</td>\n      <td>0</td>\n      <td>1</td>\n    </tr>\n  </tbody>\n</table>\n<p>7559 rows × 29 columns</p>\n</div>"
     },
     "execution_count": 77,
     "metadata": {},
     "output_type": "execute_result"
    }
   ],
   "source": [
    "# categorical data one hot encoding\n",
    "categorical_list_transformed = ['HomePlanet', 'Destination', 'deck', 'side']\n",
    "\n",
    "df_transformed = pd.get_dummies(df_transformed, columns=categorical_list_transformed)\n",
    "df_transformed"
   ],
   "metadata": {
    "collapsed": false,
    "pycharm": {
     "name": "#%%\n"
    }
   }
  },
  {
   "cell_type": "code",
   "execution_count": 78,
   "outputs": [],
   "source": [
    "# numeric data\n",
    "std_list_transformed = ['Age', 'RoomService', 'FoodCourt', 'ShoppingMall', 'Spa', 'VRDeck', 'total expenses']\n",
    "norm_list_transformed = ['members']\n",
    "\n",
    "from sklearn.compose import ColumnTransformer\n",
    "from sklearn.preprocessing import StandardScaler\n",
    "from sklearn.preprocessing import MinMaxScaler\n",
    "\n",
    "numeric_colTrans = ColumnTransformer([\n",
    "    ('normalisation', MinMaxScaler(), norm_list_transformed ),\n",
    "    ('stabdardisation', StandardScaler(), std_list_transformed)\n",
    "])\n",
    "\n",
    "df_num_transformed = numeric_colTrans.fit_transform(df_transformed)\n",
    "df_num_transformed = pd.DataFrame(df_num_transformed, columns=norm_list_transformed + std_list_transformed)\n",
    "df_transformed[norm_list_transformed + std_list_transformed] = df_num_transformed"
   ],
   "metadata": {
    "collapsed": false,
    "pycharm": {
     "name": "#%%\n"
    }
   }
  },
  {
   "cell_type": "markdown",
   "source": [
    "# test train split"
   ],
   "metadata": {
    "collapsed": false,
    "pycharm": {
     "name": "#%% md\n"
    }
   }
  },
  {
   "cell_type": "code",
   "execution_count": 79,
   "outputs": [],
   "source": [
    "from sklearn.model_selection import train_test_split\n",
    "\n",
    "x = df_transformed.drop(columns='Transported')\n",
    "y = df_transformed['Transported'].astype(int)\n",
    "\n",
    "x_train, x_val, y_train, y_val = train_test_split(x,y, test_size=0.1, random_state=42)"
   ],
   "metadata": {
    "collapsed": false,
    "pycharm": {
     "name": "#%%\n"
    }
   }
  },
  {
   "cell_type": "code",
   "execution_count": 80,
   "outputs": [
    {
     "data": {
      "text/plain": "437     1\n1606    0\n4271    1\n149     1\n4254    0\n       ..\n5191    0\n5226    0\n5390    0\n860     1\n7270    1\nName: Transported, Length: 6803, dtype: int64"
     },
     "execution_count": 80,
     "metadata": {},
     "output_type": "execute_result"
    }
   ],
   "source": [
    "y_train"
   ],
   "metadata": {
    "collapsed": false,
    "pycharm": {
     "name": "#%%\n"
    }
   }
  },
  {
   "cell_type": "markdown",
   "source": [
    "# features evaluation"
   ],
   "metadata": {
    "collapsed": false,
    "pycharm": {
     "name": "#%% md\n"
    }
   }
  },
  {
   "cell_type": "code",
   "execution_count": 81,
   "outputs": [
    {
     "data": {
      "text/plain": "Transported                  1.000000\nCryoSleep                    0.467912\nRoomService                  0.244713\nSpa                          0.216565\nVRDeck                       0.207821\ntotal expenses               0.193545\nHomePlanet_Europa            0.181667\nHomePlanet_Earth             0.170906\ndeck_B                       0.150519\nDestination_55 Cancri e      0.113288\ndeck_C                       0.105577\nside_P                       0.103000\nside_S                       0.103000\nDestination_TRAPPIST-1e      0.102016\ndeck_E                       0.097598\ndeck_F                       0.096792\nmembers                      0.078607\nAge                          0.078134\nFoodCourt                    0.049384\ncabin number                 0.042840\nVIP                          0.037456\ndeck_D                       0.034651\ngroup                        0.026825\ndeck_G                       0.022826\nHomePlanet_Mars              0.015940\nShoppingMall                 0.011073\ndeck_A                       0.006549\nDestination_PSO J318.5-22    0.002457\ndeck_T                       0.000105\nName: Transported, dtype: float64"
     },
     "execution_count": 81,
     "metadata": {},
     "output_type": "execute_result"
    }
   ],
   "source": [
    "corr_mat = df_transformed.corr()\n",
    "corr_mat['Transported'].abs().sort_values(ascending=False)"
   ],
   "metadata": {
    "collapsed": false,
    "pycharm": {
     "name": "#%%\n"
    }
   }
  },
  {
   "cell_type": "markdown",
   "source": [
    "most of the features are pretty significant, a slight regularisation should be sufficient"
   ],
   "metadata": {
    "collapsed": false,
    "pycharm": {
     "name": "#%% md\n"
    }
   }
  },
  {
   "cell_type": "markdown",
   "source": [
    "# build models"
   ],
   "metadata": {
    "collapsed": false,
    "pycharm": {
     "name": "#%% md\n"
    }
   }
  },
  {
   "cell_type": "code",
   "execution_count": 82,
   "outputs": [],
   "source": [
    "def gs_eval(model):\n",
    "    print(f'ROCAUC score: {model.best_score_}')\n",
    "    print(model.best_params_)"
   ],
   "metadata": {
    "collapsed": false,
    "pycharm": {
     "name": "#%%\n"
    }
   }
  },
  {
   "cell_type": "code",
   "execution_count": 83,
   "outputs": [],
   "source": [
    "def rocauc(model):\n",
    "    from sklearn.metrics import roc_auc_score\n",
    "    print('ROCAUC: ' + str(roc_auc_score(model.predict(x_val), y_val)))"
   ],
   "metadata": {
    "collapsed": false,
    "pycharm": {
     "name": "#%%\n"
    }
   }
  },
  {
   "cell_type": "markdown",
   "source": [
    "## model 1 elastic net"
   ],
   "metadata": {
    "collapsed": false,
    "pycharm": {
     "name": "#%% md\n"
    }
   }
  },
  {
   "cell_type": "code",
   "execution_count": 84,
   "outputs": [],
   "source": [
    "# from sklearn.linear_model import LogisticRegression\n",
    "# from sklearn.model_selection import GridSearchCV\n",
    "#\n",
    "# param_grid = [\n",
    "#     {\n",
    "#         'penalty': ['elastic_net'],\n",
    "#         'l1_ratio': list(0.1 * x for x in range(0,10)),\n",
    "#         'C': list(0.1 * x for x in range(0,20)),\n",
    "#         'solver': ['saga']\n",
    "#     },\n",
    "#     {\n",
    "#         'penalty': ['l2', 'l1'],\n",
    "#         'C': list(0.1 * x for x in range(0,20))\n",
    "#     }\n",
    "# ]\n",
    "#\n",
    "# gs_elastic_net = GridSearchCV(LogisticRegression(), param_grid, cv=5,\n",
    "#                               scoring='roc_auc',\n",
    "#                               return_train_score=True)\n",
    "#\n",
    "# gs_elastic_net.fit(x_train, y_train)\n",
    "# gs_eval(gs_elastic_net)"
   ],
   "metadata": {
    "collapsed": false,
    "pycharm": {
     "name": "#%%\n"
    }
   }
  },
  {
   "cell_type": "code",
   "execution_count": 85,
   "outputs": [
    {
     "name": "stdout",
     "output_type": "stream",
     "text": [
      "ROCAUC: 0.8\n"
     ]
    }
   ],
   "source": [
    "from sklearn.linear_model import LogisticRegression\n",
    "\n",
    "lr = LogisticRegression(penalty='l2', C=1.4)\n",
    "lr.fit(x_train, y_train)\n",
    "rocauc(lr)"
   ],
   "metadata": {
    "collapsed": false,
    "pycharm": {
     "name": "#%%\n"
    }
   }
  },
  {
   "cell_type": "markdown",
   "source": [
    "## model 2 random forest"
   ],
   "metadata": {
    "collapsed": false,
    "pycharm": {
     "name": "#%% md\n"
    }
   }
  },
  {
   "cell_type": "code",
   "execution_count": 86,
   "outputs": [],
   "source": [
    "# from sklearn.ensemble import RandomForestClassifier\n",
    "# from sklearn.model_selection import GridSearchCV\n",
    "#\n",
    "# param_grid = {'n_estimators': list(range(10, 200, 10)),\n",
    "#               'max_depth': list(range(10,30)),\n",
    "#               }\n",
    "#\n",
    "# gs_rdf = GridSearchCV(RandomForestClassifier(n_jobs=-1), param_grid, cv=5,\n",
    "#                       scoring='roc_auc', return_train_score=True)\n",
    "# gs_rdf.fit(x_train, y_train)\n",
    "# gs_eval(gs_rdf)"
   ],
   "metadata": {
    "collapsed": false,
    "pycharm": {
     "name": "#%%\n"
    }
   }
  },
  {
   "cell_type": "code",
   "execution_count": 87,
   "outputs": [
    {
     "name": "stdout",
     "output_type": "stream",
     "text": [
      "ROCAUC: 0.810270680495826\n"
     ]
    }
   ],
   "source": [
    "from sklearn.ensemble import RandomForestClassifier\n",
    "\n",
    "rdf = RandomForestClassifier(n_estimators=140, max_depth=11)\n",
    "rdf.fit(x_train, y_train)\n",
    "rocauc(rdf)"
   ],
   "metadata": {
    "collapsed": false,
    "pycharm": {
     "name": "#%%\n"
    }
   }
  },
  {
   "cell_type": "markdown",
   "source": [
    "## model 3 XGBoost"
   ],
   "metadata": {
    "collapsed": false,
    "pycharm": {
     "name": "#%% md\n"
    }
   }
  },
  {
   "cell_type": "code",
   "execution_count": 88,
   "outputs": [],
   "source": [
    "# from xgboost import XGBClassifier\n",
    "# from sklearn.model_selection import RandomizedSearchCV\n",
    "# import warnings\n",
    "# from sklearn.metrics import roc_auc_score\n",
    "#\n",
    "# warnings.simplefilter(action='ignore')\n",
    "#\n",
    "# param_grid = {\n",
    "#     'n_estimators': list(range(100,300)),\n",
    "#     'max_depth': list(range(10, 30)),\n",
    "#     'learning_rate': list(0.1* x for x in range(1, 8))\n",
    "#     }\n",
    "#\n",
    "# gs_xgb = RandomizedSearchCV(XGBClassifier(n_jobs=-1, use_label_encoder=False,\n",
    "#                                     eval_metric = 'auc'), param_grid,\n",
    "#                                     cv=5, return_train_score=True)\n",
    "# gs_xgb.fit(x_train, y_train)\n",
    "# gs_eval(gs_xgb)"
   ],
   "metadata": {
    "collapsed": false,
    "pycharm": {
     "name": "#%%\n"
    }
   }
  },
  {
   "cell_type": "code",
   "execution_count": 89,
   "outputs": [
    {
     "name": "stdout",
     "output_type": "stream",
     "text": [
      "[16:16:52] WARNING: ../src/learner.cc:1115: Starting in XGBoost 1.3.0, the default evaluation metric used with the objective 'binary:logistic' was changed from 'error' to 'logloss'. Explicitly set eval_metric if you'd like to restore the old behavior.\n",
      "ROCAUC: 0.8034055727554179\n"
     ]
    }
   ],
   "source": [
    "from xgboost import XGBClassifier\n",
    "xgb = XGBClassifier(n_estimators=193, max_depth=18, learning_rate = 0.2)\n",
    "xgb.fit(x_train, y_train)\n",
    "rocauc(xgb)"
   ],
   "metadata": {
    "collapsed": false,
    "pycharm": {
     "name": "#%%\n"
    }
   }
  },
  {
   "cell_type": "markdown",
   "source": [
    "## model 4 SVC\n",
    "too slow and poor performance, commented out"
   ],
   "metadata": {
    "collapsed": false,
    "pycharm": {
     "name": "#%% md\n"
    }
   }
  },
  {
   "cell_type": "code",
   "execution_count": 90,
   "outputs": [],
   "source": [
    "# from sklearn.svm import SVC\n",
    "# from sklearn.model_selection import GridSearchCV\n",
    "#\n",
    "# param_grid = {\n",
    "#     'degree': list(range(1,3)),\n",
    "#     'C': list(x * 0.1 for x in range (1,5))\n",
    "# }\n",
    "#\n",
    "# gs_SVC = GridSearchCV(SVC(kernel='poly', verbose=True), param_grid, cv=5,\n",
    "#                       return_train_score=True, scoring='roc_auc')\n",
    "# gs_SVC.fit(x_train, y_train)\n",
    "# gs_eval(gs_SVC)"
   ],
   "metadata": {
    "collapsed": false,
    "pycharm": {
     "name": "#%%\n"
    }
   }
  },
  {
   "cell_type": "code",
   "execution_count": 91,
   "outputs": [],
   "source": [
    "# from sklearn.svm import SVC\n",
    "#\n",
    "# svc = SVC(kernel='linear', C=0.4)\n",
    "# svc.fit(x_train, y_train)\n",
    "# rocauc(svc)"
   ],
   "metadata": {
    "collapsed": false,
    "pycharm": {
     "name": "#%%\n"
    }
   }
  },
  {
   "cell_type": "markdown",
   "source": [
    "# Stacking the models"
   ],
   "metadata": {
    "collapsed": false,
    "pycharm": {
     "name": "#%% md\n"
    }
   }
  },
  {
   "cell_type": "code",
   "execution_count": 92,
   "outputs": [],
   "source": [
    "# from sklearn.linear_model import LogisticRegression\n",
    "# from sklearn.ensemble import RandomForestClassifier\n",
    "# from xgboost import XGBClassifier\n",
    "# from mlxtend.classifier import StackingClassifier\n",
    "# from sklearn.model_selection import cross_val_score\n",
    "# from sklearn.svm import SVC\n",
    "# import warnings\n",
    "#\n",
    "# warnings.simplefilter('ignore')\n",
    "#\n",
    "# clf1 = LogisticRegression(penalty='l2', C=1.4)\n",
    "# clf2 = RandomForestClassifier(n_estimators=140, max_depth=12)\n",
    "# clf3 = XGBClassifier(n_estimators=175, max_depth=18, learning_rate = 0.3, eval_metric='auc')\n",
    "# clf4 = SVC(kernel='linear', C=0.4)\n",
    "# lr = LogisticRegression()\n",
    "#\n",
    "# sclf = StackingClassifier(classifiers=[clf1, clf2, clf3, clf4], meta_classifier=lr)\n",
    "#\n",
    "# print('5-fold cross validation: \\n')\n",
    "#\n",
    "# for clf, label in zip([clf1, clf2, clf3, clf4, sclf],\n",
    "#                       ['Ridge','Random forest', 'XGBoost','SVC', 'Stacked']):\n",
    "#     scores = cross_val_score(clf, x_train, y_train, cv=5, scoring='roc_auc')\n",
    "#     print('ROCAUC: %.2f[%s]'% (scores.mean(), label))"
   ],
   "metadata": {
    "collapsed": false,
    "pycharm": {
     "name": "#%%\n"
    }
   }
  },
  {
   "cell_type": "markdown",
   "source": [
    "5-fold cross validation score from training set:\n",
    "\n",
    "ROCAUC: 0.88[Ridge]\n",
    "ROCAUC: 0.89[Random forest]\n",
    "ROCAUC: 0.89[XGBoost]\n",
    "ROCAUC: 0.87[SVC]\n",
    "ROCAUC: 0.85[Stacked]"
   ],
   "metadata": {
    "collapsed": false,
    "pycharm": {
     "name": "#%% md\n"
    }
   }
  },
  {
   "cell_type": "markdown",
   "source": [
    "# voting classifier"
   ],
   "metadata": {
    "collapsed": false,
    "pycharm": {
     "name": "#%% md\n"
    }
   }
  },
  {
   "cell_type": "code",
   "execution_count": 94,
   "outputs": [],
   "source": [
    "from sklearn.ensemble import VotingClassifier\n",
    "\n",
    "clf1 = LogisticRegression(penalty='l2', C=1.4)\n",
    "clf2 = RandomForestClassifier(n_estimators=140, max_depth=12)\n",
    "clf3 = XGBClassifier(n_estimators=175, max_depth=18, learning_rate = 0.3, eval_metric='auc')"
   ],
   "metadata": {
    "collapsed": false,
    "pycharm": {
     "name": "#%%\n"
    }
   }
  },
  {
   "cell_type": "markdown",
   "source": [
    "## finding the optimal weights"
   ],
   "metadata": {
    "collapsed": false,
    "pycharm": {
     "name": "#%% md\n"
    }
   }
  },
  {
   "cell_type": "markdown",
   "source": [
    "## first tuning"
   ],
   "metadata": {
    "collapsed": false,
    "pycharm": {
     "name": "#%% md\n"
    }
   }
  },
  {
   "cell_type": "code",
   "execution_count": 100,
   "outputs": [],
   "source": [
    "import warnings\n",
    "warnings.simplefilter('ignore')\n",
    "\n",
    "df = pd.DataFrame(columns=('w1', 'w2','w3', 'mean', 'sd') )\n",
    "\n",
    "from sklearn.model_selection import cross_val_score\n",
    "\n",
    "for w1 in range(1,4):\n",
    "    for w2 in range(1,4):\n",
    "        for w3 in range(1,4):\n",
    "            if (w1 == w2 and w2 == w3 and w1!=1):\n",
    "                continue\n",
    "\n",
    "            vclf = VotingClassifier(estimators=[('lr',clf1), ('rf',clf2), ('xgb',clf3)],\n",
    "                        weights=[w1,w2,w3], flatten_transform=True, voting='soft',\n",
    "                        n_jobs=-1, verbose=True)\n",
    "\n",
    "            scores = cross_val_score(estimator=vclf, X=x_train, y=y_train,\n",
    "                                     scoring='roc_auc', cv=5, n_jobs=-1)\n",
    "\n",
    "            df = df.append({'w1': w1, 'w2': w2, 'w3':w3,\n",
    "                       'mean': scores.mean(), 'sd': scores.std()}, ignore_index=True)"
   ],
   "metadata": {
    "collapsed": false,
    "pycharm": {
     "name": "#%%\n"
    }
   }
  },
  {
   "cell_type": "code",
   "execution_count": 104,
   "outputs": [
    {
     "data": {
      "text/plain": "     w1   w2   w3      mean        sd\n15  2.0  3.0  2.0  0.899465   0.00652\n16  2.0  3.0  3.0  0.899367  0.006123\n8   1.0  3.0  3.0  0.899245  0.006011\n4   1.0  2.0  2.0  0.899224  0.006608\n13  2.0  2.0  3.0  0.899093  0.006186\n3   1.0  2.0  1.0  0.899003  0.006381\n14  2.0  3.0  1.0     0.899   0.00657\n24  3.0  3.0  2.0  0.898977   0.00634\n6   1.0  3.0  1.0  0.898962  0.005962\n22  3.0  2.0  3.0  0.898823   0.00589\n0   1.0  1.0  1.0    0.8988  0.006346\n12  2.0  2.0  1.0  0.898765  0.006264\n1   1.0  1.0  2.0  0.898711  0.006109\n7   1.0  3.0  2.0  0.898693   0.00613\n5   1.0  2.0  3.0  0.898535   0.00629\n11  2.0  1.0  3.0  0.898454  0.006142\n10  2.0  1.0  2.0  0.898448  0.006203\n21  3.0  2.0  2.0  0.898368  0.006034\n2   1.0  1.0  3.0  0.898077  0.006123\n23  3.0  3.0  1.0  0.897983  0.006511\n19  3.0  1.0  3.0   0.89793   0.00595\n9   2.0  1.0  1.0  0.897584  0.006305\n18  3.0  1.0  2.0  0.897458   0.00625\n20  3.0  2.0  1.0  0.897235  0.006207\n17  3.0  1.0  1.0  0.895714  0.006283",
      "text/html": "<div>\n<style scoped>\n    .dataframe tbody tr th:only-of-type {\n        vertical-align: middle;\n    }\n\n    .dataframe tbody tr th {\n        vertical-align: top;\n    }\n\n    .dataframe thead th {\n        text-align: right;\n    }\n</style>\n<table border=\"1\" class=\"dataframe\">\n  <thead>\n    <tr style=\"text-align: right;\">\n      <th></th>\n      <th>w1</th>\n      <th>w2</th>\n      <th>w3</th>\n      <th>mean</th>\n      <th>sd</th>\n    </tr>\n  </thead>\n  <tbody>\n    <tr>\n      <th>15</th>\n      <td>2.0</td>\n      <td>3.0</td>\n      <td>2.0</td>\n      <td>0.899465</td>\n      <td>0.00652</td>\n    </tr>\n    <tr>\n      <th>16</th>\n      <td>2.0</td>\n      <td>3.0</td>\n      <td>3.0</td>\n      <td>0.899367</td>\n      <td>0.006123</td>\n    </tr>\n    <tr>\n      <th>8</th>\n      <td>1.0</td>\n      <td>3.0</td>\n      <td>3.0</td>\n      <td>0.899245</td>\n      <td>0.006011</td>\n    </tr>\n    <tr>\n      <th>4</th>\n      <td>1.0</td>\n      <td>2.0</td>\n      <td>2.0</td>\n      <td>0.899224</td>\n      <td>0.006608</td>\n    </tr>\n    <tr>\n      <th>13</th>\n      <td>2.0</td>\n      <td>2.0</td>\n      <td>3.0</td>\n      <td>0.899093</td>\n      <td>0.006186</td>\n    </tr>\n    <tr>\n      <th>3</th>\n      <td>1.0</td>\n      <td>2.0</td>\n      <td>1.0</td>\n      <td>0.899003</td>\n      <td>0.006381</td>\n    </tr>\n    <tr>\n      <th>14</th>\n      <td>2.0</td>\n      <td>3.0</td>\n      <td>1.0</td>\n      <td>0.899</td>\n      <td>0.00657</td>\n    </tr>\n    <tr>\n      <th>24</th>\n      <td>3.0</td>\n      <td>3.0</td>\n      <td>2.0</td>\n      <td>0.898977</td>\n      <td>0.00634</td>\n    </tr>\n    <tr>\n      <th>6</th>\n      <td>1.0</td>\n      <td>3.0</td>\n      <td>1.0</td>\n      <td>0.898962</td>\n      <td>0.005962</td>\n    </tr>\n    <tr>\n      <th>22</th>\n      <td>3.0</td>\n      <td>2.0</td>\n      <td>3.0</td>\n      <td>0.898823</td>\n      <td>0.00589</td>\n    </tr>\n    <tr>\n      <th>0</th>\n      <td>1.0</td>\n      <td>1.0</td>\n      <td>1.0</td>\n      <td>0.8988</td>\n      <td>0.006346</td>\n    </tr>\n    <tr>\n      <th>12</th>\n      <td>2.0</td>\n      <td>2.0</td>\n      <td>1.0</td>\n      <td>0.898765</td>\n      <td>0.006264</td>\n    </tr>\n    <tr>\n      <th>1</th>\n      <td>1.0</td>\n      <td>1.0</td>\n      <td>2.0</td>\n      <td>0.898711</td>\n      <td>0.006109</td>\n    </tr>\n    <tr>\n      <th>7</th>\n      <td>1.0</td>\n      <td>3.0</td>\n      <td>2.0</td>\n      <td>0.898693</td>\n      <td>0.00613</td>\n    </tr>\n    <tr>\n      <th>5</th>\n      <td>1.0</td>\n      <td>2.0</td>\n      <td>3.0</td>\n      <td>0.898535</td>\n      <td>0.00629</td>\n    </tr>\n    <tr>\n      <th>11</th>\n      <td>2.0</td>\n      <td>1.0</td>\n      <td>3.0</td>\n      <td>0.898454</td>\n      <td>0.006142</td>\n    </tr>\n    <tr>\n      <th>10</th>\n      <td>2.0</td>\n      <td>1.0</td>\n      <td>2.0</td>\n      <td>0.898448</td>\n      <td>0.006203</td>\n    </tr>\n    <tr>\n      <th>21</th>\n      <td>3.0</td>\n      <td>2.0</td>\n      <td>2.0</td>\n      <td>0.898368</td>\n      <td>0.006034</td>\n    </tr>\n    <tr>\n      <th>2</th>\n      <td>1.0</td>\n      <td>1.0</td>\n      <td>3.0</td>\n      <td>0.898077</td>\n      <td>0.006123</td>\n    </tr>\n    <tr>\n      <th>23</th>\n      <td>3.0</td>\n      <td>3.0</td>\n      <td>1.0</td>\n      <td>0.897983</td>\n      <td>0.006511</td>\n    </tr>\n    <tr>\n      <th>19</th>\n      <td>3.0</td>\n      <td>1.0</td>\n      <td>3.0</td>\n      <td>0.89793</td>\n      <td>0.00595</td>\n    </tr>\n    <tr>\n      <th>9</th>\n      <td>2.0</td>\n      <td>1.0</td>\n      <td>1.0</td>\n      <td>0.897584</td>\n      <td>0.006305</td>\n    </tr>\n    <tr>\n      <th>18</th>\n      <td>3.0</td>\n      <td>1.0</td>\n      <td>2.0</td>\n      <td>0.897458</td>\n      <td>0.00625</td>\n    </tr>\n    <tr>\n      <th>20</th>\n      <td>3.0</td>\n      <td>2.0</td>\n      <td>1.0</td>\n      <td>0.897235</td>\n      <td>0.006207</td>\n    </tr>\n    <tr>\n      <th>17</th>\n      <td>3.0</td>\n      <td>1.0</td>\n      <td>1.0</td>\n      <td>0.895714</td>\n      <td>0.006283</td>\n    </tr>\n  </tbody>\n</table>\n</div>"
     },
     "execution_count": 104,
     "metadata": {},
     "output_type": "execute_result"
    }
   ],
   "source": [
    "df.sort_values(['mean'], ascending=False)"
   ],
   "metadata": {
    "collapsed": false,
    "pycharm": {
     "name": "#%%\n"
    }
   }
  },
  {
   "cell_type": "markdown",
   "source": [
    "## second tuning"
   ],
   "metadata": {
    "collapsed": false,
    "pycharm": {
     "name": "#%% md\n"
    }
   }
  },
  {
   "cell_type": "code",
   "execution_count": 107,
   "outputs": [],
   "source": [
    "import warnings\n",
    "warnings.simplefilter('ignore')\n",
    "\n",
    "df = pd.DataFrame(columns=('w1', 'w2','w3', 'mean', 'sd') )\n",
    "\n",
    "from sklearn.model_selection import cross_val_score\n",
    "\n",
    "for w1 in range(18,22):\n",
    "    for w2 in range(28,32):\n",
    "        for w3 in range(18,22):\n",
    "            if (w1 == w2 and w2 == w3):\n",
    "                continue\n",
    "\n",
    "            vclf = VotingClassifier(estimators=[('lr',clf1), ('rf',clf2), ('xgb',clf3)],\n",
    "                        weights=[w1,w2,w3], flatten_transform=True, voting='soft',\n",
    "                        n_jobs=-1, verbose=True)\n",
    "\n",
    "            scores = cross_val_score(estimator=vclf, X=x_train, y=y_train,\n",
    "                                     scoring='roc_auc', cv=5, n_jobs=-1)\n",
    "\n",
    "            df = df.append({'w1': w1*0.1, 'w2': w2*0.1, 'w3':w3*0.1,\n",
    "                       'mean': scores.mean(), 'sd': scores.std()}, ignore_index=True)"
   ],
   "metadata": {
    "collapsed": false,
    "pycharm": {
     "name": "#%%\n"
    }
   }
  },
  {
   "cell_type": "code",
   "execution_count": 108,
   "outputs": [
    {
     "data": {
      "text/plain": "     w1   w2   w3      mean        sd\n61  2.1  3.1  1.9  0.899873  0.006618\n31  1.9  3.1  2.1  0.899784  0.006214\n21  1.9  2.9  1.9  0.899748  0.006461\n41  2.0  3.0  1.9  0.899724  0.006421\n44  2.0  3.1  1.8   0.89972  0.006575\n..  ...  ...  ...       ...       ...\n11  1.8  3.0  2.1  0.899045  0.006377\n62  2.1  3.1  2.0  0.899008  0.005917\n27  1.9  3.0  2.1  0.898974  0.006739\n6   1.8  2.9  2.0  0.898947  0.006484\n22  1.9  2.9  2.0  0.898911  0.006207\n\n[64 rows x 5 columns]",
      "text/html": "<div>\n<style scoped>\n    .dataframe tbody tr th:only-of-type {\n        vertical-align: middle;\n    }\n\n    .dataframe tbody tr th {\n        vertical-align: top;\n    }\n\n    .dataframe thead th {\n        text-align: right;\n    }\n</style>\n<table border=\"1\" class=\"dataframe\">\n  <thead>\n    <tr style=\"text-align: right;\">\n      <th></th>\n      <th>w1</th>\n      <th>w2</th>\n      <th>w3</th>\n      <th>mean</th>\n      <th>sd</th>\n    </tr>\n  </thead>\n  <tbody>\n    <tr>\n      <th>61</th>\n      <td>2.1</td>\n      <td>3.1</td>\n      <td>1.9</td>\n      <td>0.899873</td>\n      <td>0.006618</td>\n    </tr>\n    <tr>\n      <th>31</th>\n      <td>1.9</td>\n      <td>3.1</td>\n      <td>2.1</td>\n      <td>0.899784</td>\n      <td>0.006214</td>\n    </tr>\n    <tr>\n      <th>21</th>\n      <td>1.9</td>\n      <td>2.9</td>\n      <td>1.9</td>\n      <td>0.899748</td>\n      <td>0.006461</td>\n    </tr>\n    <tr>\n      <th>41</th>\n      <td>2.0</td>\n      <td>3.0</td>\n      <td>1.9</td>\n      <td>0.899724</td>\n      <td>0.006421</td>\n    </tr>\n    <tr>\n      <th>44</th>\n      <td>2.0</td>\n      <td>3.1</td>\n      <td>1.8</td>\n      <td>0.89972</td>\n      <td>0.006575</td>\n    </tr>\n    <tr>\n      <th>...</th>\n      <td>...</td>\n      <td>...</td>\n      <td>...</td>\n      <td>...</td>\n      <td>...</td>\n    </tr>\n    <tr>\n      <th>11</th>\n      <td>1.8</td>\n      <td>3.0</td>\n      <td>2.1</td>\n      <td>0.899045</td>\n      <td>0.006377</td>\n    </tr>\n    <tr>\n      <th>62</th>\n      <td>2.1</td>\n      <td>3.1</td>\n      <td>2.0</td>\n      <td>0.899008</td>\n      <td>0.005917</td>\n    </tr>\n    <tr>\n      <th>27</th>\n      <td>1.9</td>\n      <td>3.0</td>\n      <td>2.1</td>\n      <td>0.898974</td>\n      <td>0.006739</td>\n    </tr>\n    <tr>\n      <th>6</th>\n      <td>1.8</td>\n      <td>2.9</td>\n      <td>2.0</td>\n      <td>0.898947</td>\n      <td>0.006484</td>\n    </tr>\n    <tr>\n      <th>22</th>\n      <td>1.9</td>\n      <td>2.9</td>\n      <td>2.0</td>\n      <td>0.898911</td>\n      <td>0.006207</td>\n    </tr>\n  </tbody>\n</table>\n<p>64 rows × 5 columns</p>\n</div>"
     },
     "execution_count": 108,
     "metadata": {},
     "output_type": "execute_result"
    }
   ],
   "source": [
    "df.sort_values(['mean'], ascending=False)"
   ],
   "metadata": {
    "collapsed": false,
    "pycharm": {
     "name": "#%%\n"
    }
   }
  },
  {
   "cell_type": "code",
   "execution_count": 109,
   "outputs": [
    {
     "name": "stdout",
     "output_type": "stream",
     "text": [
      "ROCAUC: 0.8134488188976379\n"
     ]
    }
   ],
   "source": [
    "vclf = VotingClassifier(estimators=[('lr',clf1), ('rf',clf2), ('xgb',clf3)],\n",
    "                        weights=[2.1,3.1,1.9], flatten_transform=True, voting='soft',\n",
    "                        n_jobs=-1, verbose=True)\n",
    "vclf.fit(x_train, y_train)\n",
    "rocauc(vclf)"
   ],
   "metadata": {
    "collapsed": false,
    "pycharm": {
     "name": "#%%\n"
    }
   }
  },
  {
   "cell_type": "code",
   "execution_count": 129,
   "outputs": [
    {
     "data": {
      "text/plain": "['final_model.joblib']"
     },
     "execution_count": 129,
     "metadata": {},
     "output_type": "execute_result"
    }
   ],
   "source": [
    "from joblib import dump\n",
    "dump(vclf, 'final_model.joblib')"
   ],
   "metadata": {
    "collapsed": false,
    "pycharm": {
     "name": "#%%\n"
    }
   }
  },
  {
   "cell_type": "markdown",
   "source": [
    "since the stacked model perform worse than baseline models, voting classifier will be used instead"
   ],
   "metadata": {
    "collapsed": false,
    "pycharm": {
     "name": "#%% md\n"
    }
   }
  },
  {
   "cell_type": "markdown",
   "source": [
    "# test data preprocessing"
   ],
   "metadata": {
    "collapsed": false,
    "pycharm": {
     "name": "#%% md\n"
    }
   }
  },
  {
   "cell_type": "code",
   "execution_count": 224,
   "outputs": [],
   "source": [
    "test = pd.read_csv('test.csv')\n",
    "test_transformed = test"
   ],
   "metadata": {
    "collapsed": false,
    "pycharm": {
     "name": "#%%\n"
    }
   }
  },
  {
   "cell_type": "markdown",
   "source": [
    "## impute numeric data"
   ],
   "metadata": {
    "collapsed": false,
    "pycharm": {
     "name": "#%% md\n"
    }
   }
  },
  {
   "cell_type": "code",
   "execution_count": 225,
   "outputs": [],
   "source": [
    "test_transformed[numeric_list] = ipt.fit_transform(test[numeric_list])"
   ],
   "metadata": {
    "collapsed": false,
    "pycharm": {
     "name": "#%%\n"
    }
   }
  },
  {
   "cell_type": "markdown",
   "source": [
    "## data augmentation"
   ],
   "metadata": {
    "collapsed": false,
    "pycharm": {
     "name": "#%% md\n"
    }
   }
  },
  {
   "cell_type": "code",
   "execution_count": 226,
   "outputs": [],
   "source": [
    "# add group number\n",
    "test_transformed[['group', 'id']] = test['PassengerId'].str.split('_', expand = True)\n",
    "test_transformed.drop(columns=['id', 'PassengerId'], inplace=True)\n",
    "test_transformed['group'] = test_transformed['group'].apply(int)"
   ],
   "metadata": {
    "collapsed": false,
    "pycharm": {
     "name": "#%%\n"
    }
   }
  },
  {
   "cell_type": "markdown",
   "source": [
    "### impute missing categorical values"
   ],
   "metadata": {
    "collapsed": false,
    "pycharm": {
     "name": "#%% md\n"
    }
   }
  },
  {
   "cell_type": "code",
   "execution_count": 227,
   "outputs": [
    {
     "data": {
      "text/plain": "HomePlanet       True\nCryoSleep        True\nCabin            True\nDestination      True\nAge             False\nVIP              True\nRoomService     False\nFoodCourt       False\nShoppingMall    False\nSpa             False\nVRDeck          False\nName             True\ngroup           False\ndtype: bool"
     },
     "execution_count": 227,
     "metadata": {},
     "output_type": "execute_result"
    }
   ],
   "source": [
    "test_transformed.isnull().any()"
   ],
   "metadata": {
    "collapsed": false,
    "pycharm": {
     "name": "#%%\n"
    }
   }
  },
  {
   "cell_type": "code",
   "execution_count": 228,
   "outputs": [],
   "source": [
    "from sklearn.impute import SimpleImputer\n",
    "\n",
    "missing = ['HomePlanet', 'CryoSleep', 'Cabin', 'Destination', 'VIP']\n",
    "\n",
    "ipt_cat = SimpleImputer(strategy='most_frequent', missing_values=np.nan)\n",
    "test_transformed[missing] = ipt_cat.fit_transform(test_transformed[missing])"
   ],
   "metadata": {
    "collapsed": false,
    "pycharm": {
     "name": "#%%\n"
    }
   }
  },
  {
   "cell_type": "code",
   "execution_count": 229,
   "outputs": [],
   "source": [
    "# split cabin number\n",
    "test_transformed[['deck', 'cabin number', 'side']] = test_transformed['Cabin'].str.split('/', expand=True)\n",
    "test_transformed['cabin number'] = test_transformed['cabin number'].apply(int)\n",
    "test_transformed.drop(columns='Cabin', inplace=True)"
   ],
   "metadata": {
    "collapsed": false,
    "pycharm": {
     "name": "#%%\n"
    }
   }
  },
  {
   "cell_type": "code",
   "execution_count": 230,
   "outputs": [],
   "source": [
    "# add total expenses column\n",
    "test_transformed['total expenses'] = test_transformed['RoomService']+ test_transformed['FoodCourt']+ test_transformed['ShoppingMall']+ test_transformed['Spa']+ test_transformed['VRDeck']"
   ],
   "metadata": {
    "collapsed": false,
    "pycharm": {
     "name": "#%%\n"
    }
   }
  },
  {
   "cell_type": "code",
   "execution_count": 231,
   "outputs": [],
   "source": [
    "#impute missing names\n",
    "missing_name_df = test_transformed[test_transformed.isnull().any(axis=1)]\n",
    "missing_name_df['Name'] = 'missing name'"
   ],
   "metadata": {
    "collapsed": false,
    "pycharm": {
     "name": "#%%\n"
    }
   }
  },
  {
   "cell_type": "code",
   "execution_count": 232,
   "outputs": [],
   "source": [
    "# add number of family members column\n",
    "test_transformed[['first name', 'last name']] = test_transformed['Name'].str.split(' ', expand=True)\n",
    "test_family = pd.DataFrame(test_transformed.groupby(['group','last name']).size())\n",
    "test_family.rename(columns={0: 'members'}, inplace=True)\n",
    "\n",
    "test_transformed = test_transformed.merge(right=test_family, how='left', on=['group', 'last name'])\n",
    "test_transformed.drop(columns=['first name', 'last name', 'Name'], inplace=True)"
   ],
   "metadata": {
    "collapsed": false,
    "pycharm": {
     "name": "#%%\n"
    }
   }
  },
  {
   "cell_type": "code",
   "execution_count": 242,
   "outputs": [],
   "source": [
    "test_transformed = test_transformed.fillna(1)"
   ],
   "metadata": {
    "collapsed": false,
    "pycharm": {
     "name": "#%%\n"
    }
   }
  },
  {
   "cell_type": "markdown",
   "source": [
    "## encoding and standardisation"
   ],
   "metadata": {
    "collapsed": false,
    "pycharm": {
     "name": "#%% md\n"
    }
   }
  },
  {
   "cell_type": "code",
   "execution_count": 244,
   "outputs": [],
   "source": [
    "# mapping boolean values\n",
    "test_transformed[boolean_list_transformed] = test_transformed[boolean_list_transformed].astype(int)"
   ],
   "metadata": {
    "collapsed": false,
    "pycharm": {
     "name": "#%%\n"
    }
   }
  },
  {
   "cell_type": "code",
   "execution_count": 245,
   "outputs": [
    {
     "data": {
      "text/plain": "      CryoSleep   Age  VIP  RoomService  FoodCourt  ShoppingMall     Spa  \\\n0             1  27.0    0          0.0        0.0           0.0     0.0   \n1             0  19.0    0          0.0        9.0           0.0  2823.0   \n2             1  31.0    0          0.0        0.0           0.0     0.0   \n3             0  38.0    0          0.0     6652.0           0.0   181.0   \n4             0  20.0    0         10.0        0.0         635.0     0.0   \n...         ...   ...  ...          ...        ...           ...     ...   \n4272          1  34.0    0          0.0        0.0           0.0     0.0   \n4273          0  42.0    0          0.0      847.0          17.0    10.0   \n4274          1  26.0    0          0.0        0.0           0.0     0.0   \n4275          0  26.0    0          0.0     2680.0           0.0     0.0   \n4276          1  43.0    0          0.0        0.0           0.0     0.0   \n\n      VRDeck  group  cabin number  ...  deck_A  deck_B  deck_C  deck_D  \\\n0        0.0     13             3  ...       0       0       0       0   \n1        0.0     18             4  ...       0       0       0       0   \n2        0.0     19             0  ...       0       0       1       0   \n3      585.0     21             1  ...       0       0       1       0   \n4        0.0     23             5  ...       0       0       0       0   \n...      ...    ...           ...  ...     ...     ...     ...     ...   \n4272     0.0   9266          1496  ...       0       0       0       0   \n4273   144.0   9269           160  ...       0       0       0       0   \n4274     0.0   9271           296  ...       0       0       0       1   \n4275   523.0   9273           297  ...       0       0       0       1   \n4276     0.0   9277          1498  ...       0       0       0       0   \n\n      deck_E  deck_F  deck_G  deck_T  side_P  side_S  \n0          0       0       1       0       0       1  \n1          0       1       0       0       0       1  \n2          0       0       0       0       0       1  \n3          0       0       0       0       0       1  \n4          0       1       0       0       0       1  \n...      ...     ...     ...     ...     ...     ...  \n4272       0       0       1       0       0       1  \n4273       0       0       1       0       1       0  \n4274       0       0       0       0       1       0  \n4275       0       0       0       0       1       0  \n4276       0       0       1       0       0       1  \n\n[4277 rows x 28 columns]",
      "text/html": "<div>\n<style scoped>\n    .dataframe tbody tr th:only-of-type {\n        vertical-align: middle;\n    }\n\n    .dataframe tbody tr th {\n        vertical-align: top;\n    }\n\n    .dataframe thead th {\n        text-align: right;\n    }\n</style>\n<table border=\"1\" class=\"dataframe\">\n  <thead>\n    <tr style=\"text-align: right;\">\n      <th></th>\n      <th>CryoSleep</th>\n      <th>Age</th>\n      <th>VIP</th>\n      <th>RoomService</th>\n      <th>FoodCourt</th>\n      <th>ShoppingMall</th>\n      <th>Spa</th>\n      <th>VRDeck</th>\n      <th>group</th>\n      <th>cabin number</th>\n      <th>...</th>\n      <th>deck_A</th>\n      <th>deck_B</th>\n      <th>deck_C</th>\n      <th>deck_D</th>\n      <th>deck_E</th>\n      <th>deck_F</th>\n      <th>deck_G</th>\n      <th>deck_T</th>\n      <th>side_P</th>\n      <th>side_S</th>\n    </tr>\n  </thead>\n  <tbody>\n    <tr>\n      <th>0</th>\n      <td>1</td>\n      <td>27.0</td>\n      <td>0</td>\n      <td>0.0</td>\n      <td>0.0</td>\n      <td>0.0</td>\n      <td>0.0</td>\n      <td>0.0</td>\n      <td>13</td>\n      <td>3</td>\n      <td>...</td>\n      <td>0</td>\n      <td>0</td>\n      <td>0</td>\n      <td>0</td>\n      <td>0</td>\n      <td>0</td>\n      <td>1</td>\n      <td>0</td>\n      <td>0</td>\n      <td>1</td>\n    </tr>\n    <tr>\n      <th>1</th>\n      <td>0</td>\n      <td>19.0</td>\n      <td>0</td>\n      <td>0.0</td>\n      <td>9.0</td>\n      <td>0.0</td>\n      <td>2823.0</td>\n      <td>0.0</td>\n      <td>18</td>\n      <td>4</td>\n      <td>...</td>\n      <td>0</td>\n      <td>0</td>\n      <td>0</td>\n      <td>0</td>\n      <td>0</td>\n      <td>1</td>\n      <td>0</td>\n      <td>0</td>\n      <td>0</td>\n      <td>1</td>\n    </tr>\n    <tr>\n      <th>2</th>\n      <td>1</td>\n      <td>31.0</td>\n      <td>0</td>\n      <td>0.0</td>\n      <td>0.0</td>\n      <td>0.0</td>\n      <td>0.0</td>\n      <td>0.0</td>\n      <td>19</td>\n      <td>0</td>\n      <td>...</td>\n      <td>0</td>\n      <td>0</td>\n      <td>1</td>\n      <td>0</td>\n      <td>0</td>\n      <td>0</td>\n      <td>0</td>\n      <td>0</td>\n      <td>0</td>\n      <td>1</td>\n    </tr>\n    <tr>\n      <th>3</th>\n      <td>0</td>\n      <td>38.0</td>\n      <td>0</td>\n      <td>0.0</td>\n      <td>6652.0</td>\n      <td>0.0</td>\n      <td>181.0</td>\n      <td>585.0</td>\n      <td>21</td>\n      <td>1</td>\n      <td>...</td>\n      <td>0</td>\n      <td>0</td>\n      <td>1</td>\n      <td>0</td>\n      <td>0</td>\n      <td>0</td>\n      <td>0</td>\n      <td>0</td>\n      <td>0</td>\n      <td>1</td>\n    </tr>\n    <tr>\n      <th>4</th>\n      <td>0</td>\n      <td>20.0</td>\n      <td>0</td>\n      <td>10.0</td>\n      <td>0.0</td>\n      <td>635.0</td>\n      <td>0.0</td>\n      <td>0.0</td>\n      <td>23</td>\n      <td>5</td>\n      <td>...</td>\n      <td>0</td>\n      <td>0</td>\n      <td>0</td>\n      <td>0</td>\n      <td>0</td>\n      <td>1</td>\n      <td>0</td>\n      <td>0</td>\n      <td>0</td>\n      <td>1</td>\n    </tr>\n    <tr>\n      <th>...</th>\n      <td>...</td>\n      <td>...</td>\n      <td>...</td>\n      <td>...</td>\n      <td>...</td>\n      <td>...</td>\n      <td>...</td>\n      <td>...</td>\n      <td>...</td>\n      <td>...</td>\n      <td>...</td>\n      <td>...</td>\n      <td>...</td>\n      <td>...</td>\n      <td>...</td>\n      <td>...</td>\n      <td>...</td>\n      <td>...</td>\n      <td>...</td>\n      <td>...</td>\n      <td>...</td>\n    </tr>\n    <tr>\n      <th>4272</th>\n      <td>1</td>\n      <td>34.0</td>\n      <td>0</td>\n      <td>0.0</td>\n      <td>0.0</td>\n      <td>0.0</td>\n      <td>0.0</td>\n      <td>0.0</td>\n      <td>9266</td>\n      <td>1496</td>\n      <td>...</td>\n      <td>0</td>\n      <td>0</td>\n      <td>0</td>\n      <td>0</td>\n      <td>0</td>\n      <td>0</td>\n      <td>1</td>\n      <td>0</td>\n      <td>0</td>\n      <td>1</td>\n    </tr>\n    <tr>\n      <th>4273</th>\n      <td>0</td>\n      <td>42.0</td>\n      <td>0</td>\n      <td>0.0</td>\n      <td>847.0</td>\n      <td>17.0</td>\n      <td>10.0</td>\n      <td>144.0</td>\n      <td>9269</td>\n      <td>160</td>\n      <td>...</td>\n      <td>0</td>\n      <td>0</td>\n      <td>0</td>\n      <td>0</td>\n      <td>0</td>\n      <td>0</td>\n      <td>1</td>\n      <td>0</td>\n      <td>1</td>\n      <td>0</td>\n    </tr>\n    <tr>\n      <th>4274</th>\n      <td>1</td>\n      <td>26.0</td>\n      <td>0</td>\n      <td>0.0</td>\n      <td>0.0</td>\n      <td>0.0</td>\n      <td>0.0</td>\n      <td>0.0</td>\n      <td>9271</td>\n      <td>296</td>\n      <td>...</td>\n      <td>0</td>\n      <td>0</td>\n      <td>0</td>\n      <td>1</td>\n      <td>0</td>\n      <td>0</td>\n      <td>0</td>\n      <td>0</td>\n      <td>1</td>\n      <td>0</td>\n    </tr>\n    <tr>\n      <th>4275</th>\n      <td>0</td>\n      <td>26.0</td>\n      <td>0</td>\n      <td>0.0</td>\n      <td>2680.0</td>\n      <td>0.0</td>\n      <td>0.0</td>\n      <td>523.0</td>\n      <td>9273</td>\n      <td>297</td>\n      <td>...</td>\n      <td>0</td>\n      <td>0</td>\n      <td>0</td>\n      <td>1</td>\n      <td>0</td>\n      <td>0</td>\n      <td>0</td>\n      <td>0</td>\n      <td>1</td>\n      <td>0</td>\n    </tr>\n    <tr>\n      <th>4276</th>\n      <td>1</td>\n      <td>43.0</td>\n      <td>0</td>\n      <td>0.0</td>\n      <td>0.0</td>\n      <td>0.0</td>\n      <td>0.0</td>\n      <td>0.0</td>\n      <td>9277</td>\n      <td>1498</td>\n      <td>...</td>\n      <td>0</td>\n      <td>0</td>\n      <td>0</td>\n      <td>0</td>\n      <td>0</td>\n      <td>0</td>\n      <td>1</td>\n      <td>0</td>\n      <td>0</td>\n      <td>1</td>\n    </tr>\n  </tbody>\n</table>\n<p>4277 rows × 28 columns</p>\n</div>"
     },
     "execution_count": 245,
     "metadata": {},
     "output_type": "execute_result"
    }
   ],
   "source": [
    "# categorical data one hot encoding\n",
    "test_transformed = pd.get_dummies(test_transformed, columns=categorical_list_transformed)\n",
    "test_transformed"
   ],
   "metadata": {
    "collapsed": false,
    "pycharm": {
     "name": "#%%\n"
    }
   }
  },
  {
   "cell_type": "code",
   "execution_count": 246,
   "outputs": [],
   "source": [
    "# numeric data\n",
    "test_num_transformed = numeric_colTrans.fit_transform(test_transformed)\n",
    "test_num_transformed = pd.DataFrame(test_num_transformed, columns=norm_list_transformed + std_list_transformed)\n",
    "test_transformed[norm_list_transformed + std_list_transformed] = test_num_transformed"
   ],
   "metadata": {
    "collapsed": false,
    "pycharm": {
     "name": "#%%\n"
    }
   }
  },
  {
   "cell_type": "markdown",
   "source": [
    "# make predictions"
   ],
   "metadata": {
    "collapsed": false,
    "pycharm": {
     "name": "#%% md\n"
    }
   }
  },
  {
   "cell_type": "code",
   "execution_count": 256,
   "outputs": [],
   "source": [
    "test = pd.read_csv('test.csv')"
   ],
   "metadata": {
    "collapsed": false,
    "pycharm": {
     "name": "#%%\n"
    }
   }
  },
  {
   "cell_type": "code",
   "execution_count": 258,
   "outputs": [],
   "source": [
    "pred = vclf.predict(test_transformed)"
   ],
   "metadata": {
    "collapsed": false,
    "pycharm": {
     "name": "#%%\n"
    }
   }
  },
  {
   "cell_type": "code",
   "execution_count": 264,
   "outputs": [
    {
     "data": {
      "text/plain": "             Transported\nPassengerId             \n0013_01             True\n0018_01            False\n0019_01             True\n0021_01             True\n0023_01            False\n...                  ...\n9266_02             True\n9269_01            False\n9271_01             True\n9273_01             True\n9277_01            False\n\n[4277 rows x 1 columns]",
      "text/html": "<div>\n<style scoped>\n    .dataframe tbody tr th:only-of-type {\n        vertical-align: middle;\n    }\n\n    .dataframe tbody tr th {\n        vertical-align: top;\n    }\n\n    .dataframe thead th {\n        text-align: right;\n    }\n</style>\n<table border=\"1\" class=\"dataframe\">\n  <thead>\n    <tr style=\"text-align: right;\">\n      <th></th>\n      <th>Transported</th>\n    </tr>\n    <tr>\n      <th>PassengerId</th>\n      <th></th>\n    </tr>\n  </thead>\n  <tbody>\n    <tr>\n      <th>0013_01</th>\n      <td>True</td>\n    </tr>\n    <tr>\n      <th>0018_01</th>\n      <td>False</td>\n    </tr>\n    <tr>\n      <th>0019_01</th>\n      <td>True</td>\n    </tr>\n    <tr>\n      <th>0021_01</th>\n      <td>True</td>\n    </tr>\n    <tr>\n      <th>0023_01</th>\n      <td>False</td>\n    </tr>\n    <tr>\n      <th>...</th>\n      <td>...</td>\n    </tr>\n    <tr>\n      <th>9266_02</th>\n      <td>True</td>\n    </tr>\n    <tr>\n      <th>9269_01</th>\n      <td>False</td>\n    </tr>\n    <tr>\n      <th>9271_01</th>\n      <td>True</td>\n    </tr>\n    <tr>\n      <th>9273_01</th>\n      <td>True</td>\n    </tr>\n    <tr>\n      <th>9277_01</th>\n      <td>False</td>\n    </tr>\n  </tbody>\n</table>\n<p>4277 rows × 1 columns</p>\n</div>"
     },
     "execution_count": 264,
     "metadata": {},
     "output_type": "execute_result"
    }
   ],
   "source": [
    "PassengerId = test['PassengerId']\n",
    "final = pd.DataFrame(pred, index=PassengerId, columns=[ 'Transported'])\n",
    "final['Transported'] = final['Transported'].astype(bool)\n",
    "final"
   ],
   "metadata": {
    "collapsed": false,
    "pycharm": {
     "name": "#%%\n"
    }
   }
  },
  {
   "cell_type": "code",
   "execution_count": 265,
   "outputs": [],
   "source": [
    "final.to_csv('prediction.csv')"
   ],
   "metadata": {
    "collapsed": false,
    "pycharm": {
     "name": "#%%\n"
    }
   }
  },
  {
   "cell_type": "markdown",
   "source": [],
   "metadata": {
    "collapsed": false,
    "pycharm": {
     "name": "#%% md\n"
    }
   }
  }
 ],
 "metadata": {
  "kernelspec": {
   "display_name": "Python 3",
   "language": "python",
   "name": "python3"
  },
  "language_info": {
   "codemirror_mode": {
    "name": "ipython",
    "version": 2
   },
   "file_extension": ".py",
   "mimetype": "text/x-python",
   "name": "python",
   "nbconvert_exporter": "python",
   "pygments_lexer": "ipython2",
   "version": "2.7.6"
  }
 },
 "nbformat": 4,
 "nbformat_minor": 0
}